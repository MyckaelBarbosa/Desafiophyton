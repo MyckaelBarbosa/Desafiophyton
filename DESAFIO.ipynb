{
  "nbformat": 4,
  "nbformat_minor": 0,
  "metadata": {
    "colab": {
      "provenance": []
    },
    "kernelspec": {
      "name": "python3",
      "display_name": "Python 3"
    },
    "language_info": {
      "name": "python"
    }
  },
  "cells": [
    {
      "cell_type": "code",
      "execution_count": null,
      "metadata": {
        "id": "YnF7J0rZ15yQ"
      },
      "outputs": [],
      "source": [
        "import random\n",
        "numeros = random.randint(0, 100)\n",
        "num = int(input(\"Qual numero é o da sorte? \"))\n",
        "while num == numeros:\n",
        "  print(\"Sucesso\")\n",
        "for num in range(9):\n",
        "  num = int(input(\"que pena vc errou! Tente mais uma vez: \"))\n",
        "print(f\"Que pena! o numero da sorte era: {numeros}\")"
      ]
    },
    {
      "cell_type": "code",
      "source": [
        "import random\n",
        "numeros = random.randint(0, 100)\n",
        "num = int(input(\"Qual numero é o da sorte? \"))\n",
        "if num == numeros:\n",
        "  print(\"Sucesso\")\n",
        "else:\n",
        "  for num in range(9):\n",
        "   num = int(input(\"que pena vc errou! Tente mais uma vez: \"))\n",
        "print(f\"Que pena! o numero da sorte era: {numeros}\")"
      ],
      "metadata": {
        "id": "hxrRLA-3193c"
      },
      "execution_count": null,
      "outputs": []
    },
    {
      "cell_type": "code",
      "source": [
        "import random\n",
        "numero = random.randint(1,100)\n",
        "contador = 0\n",
        "usuario = int(input(\"Advinhe o numero gerado aleatoriamnte: \"))\n",
        "while contador < 10:\n",
        "  contador += 1\n",
        "  usuario = int(input(\"Advinhe o numero gerado aleatoriamnte: \"))\n",
        "if usuario != numero:\n",
        "   print(\"Nao acertou :( \")\n",
        "   print(f\"O numero aleatorio é {numero}\")\n",
        "else:\n",
        "   print(\"Parabens,voce acertou o numero aleatorio :)\")"
      ],
      "metadata": {
        "id": "TC-grxGv2A_N"
      },
      "execution_count": null,
      "outputs": []
    }
  ]
}